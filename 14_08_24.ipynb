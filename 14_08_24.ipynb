{
  "nbformat": 4,
  "nbformat_minor": 0,
  "metadata": {
    "colab": {
      "provenance": [],
      "include_colab_link": true
    },
    "kernelspec": {
      "name": "python3",
      "display_name": "Python 3"
    },
    "language_info": {
      "name": "python"
    }
  },
  "cells": [
    {
      "cell_type": "markdown",
      "metadata": {
        "id": "view-in-github",
        "colab_type": "text"
      },
      "source": [
        "<a href=\"https://colab.research.google.com/github/Tantan2444/Ejercicios_1SebastianiNi-o/blob/main/14_08_24.ipynb\" target=\"_parent\"><img src=\"https://colab.research.google.com/assets/colab-badge.svg\" alt=\"Open In Colab\"/></a>"
      ]
    },
    {
      "cell_type": "markdown",
      "source": [
        "# **Ejercicio 1**"
      ],
      "metadata": {
        "id": "OlQ6W9zO71wg"
      }
    },
    {
      "cell_type": "code",
      "source": [
        "print('hola mundo')"
      ],
      "metadata": {
        "id": "XrbuHc458Br-",
        "colab": {
          "base_uri": "https://localhost:8080/"
        },
        "outputId": "b0fcafb5-c421-4be7-a369-8a45ad08bef2"
      },
      "execution_count": null,
      "outputs": [
        {
          "output_type": "stream",
          "name": "stdout",
          "text": [
            "hola mundo\n"
          ]
        }
      ]
    },
    {
      "cell_type": "markdown",
      "source": [
        "# **Ejercicio 2**"
      ],
      "metadata": {
        "id": "HT5WeX3I8Zo7"
      }
    },
    {
      "cell_type": "code",
      "source": [
        "var=\"hola mundo\"\n",
        "print(var)"
      ],
      "metadata": {
        "id": "OxVM7_vJ8iyD",
        "colab": {
          "base_uri": "https://localhost:8080/"
        },
        "outputId": "332a931d-0219-4461-eff6-cfefcf65d1f3"
      },
      "execution_count": null,
      "outputs": [
        {
          "output_type": "stream",
          "name": "stdout",
          "text": [
            "hola mundo\n"
          ]
        }
      ]
    },
    {
      "cell_type": "markdown",
      "source": [
        "# **Ejercicio 3**"
      ],
      "metadata": {
        "id": "kgwEHkfa8tz2"
      }
    },
    {
      "cell_type": "code",
      "source": [
        "nombre = (input(\"Ingrese su nombre \"))\n",
        "print(\"¡Hola! \" + nombre)"
      ],
      "metadata": {
        "id": "V0DiUSae8zV9",
        "colab": {
          "base_uri": "https://localhost:8080/"
        },
        "outputId": "12454d95-5964-42fc-8625-458b848ddd90"
      },
      "execution_count": null,
      "outputs": [
        {
          "output_type": "stream",
          "name": "stdout",
          "text": [
            "Ingrese su nombre sebas\n",
            "¡Hola! sebas\n"
          ]
        }
      ]
    },
    {
      "cell_type": "markdown",
      "source": [
        "# **Ejercicio 4**"
      ],
      "metadata": {
        "id": "NOcF4muN83rv"
      }
    },
    {
      "cell_type": "code",
      "execution_count": null,
      "metadata": {
        "colab": {
          "base_uri": "https://localhost:8080/"
        },
        "id": "Wvbs4jS8vRXK",
        "outputId": "9264d203-e30d-43b0-f95f-49012d994340"
      },
      "outputs": [
        {
          "output_type": "stream",
          "name": "stdout",
          "text": [
            "el resultado es : 0.04000000000000001\n"
          ]
        }
      ],
      "source": [
        "#ej 4\n",
        "import math\n",
        "sum=3+2\n",
        "div=sum/25\n",
        "res=div**2\n",
        "print('el resultado es :', res,)"
      ]
    },
    {
      "cell_type": "markdown",
      "source": [
        "# **Ejercicio 5**"
      ],
      "metadata": {
        "id": "vWder1Fc9E1O"
      }
    },
    {
      "cell_type": "code",
      "source": [
        "horas=int(input('inserte el numero de horas trabajadas '))\n",
        "coste=int(input('inserte el pago por hora '))\n",
        "print('el pago que le corresponde es' , horas*coste)"
      ],
      "metadata": {
        "id": "KacIhXru9I9V",
        "colab": {
          "base_uri": "https://localhost:8080/"
        },
        "outputId": "16cbf9ee-5a17-41e2-c510-8263ba3422c4"
      },
      "execution_count": null,
      "outputs": [
        {
          "output_type": "stream",
          "name": "stdout",
          "text": [
            "inserte el numero de horas trabajadas 5\n",
            "inserte el pago por hora 1000\n",
            "el pago que le corresponde es 5000\n"
          ]
        }
      ]
    },
    {
      "cell_type": "markdown",
      "source": [
        "# **Ejercicio 6**"
      ],
      "metadata": {
        "id": "Li8kW4XS9NCu"
      }
    },
    {
      "cell_type": "code",
      "source": [
        "ent=int(input(\"ingrese un numero \"))\n",
        "resultado= ent*(ent+1)/2\n",
        "print(\"total:\",resultado)"
      ],
      "metadata": {
        "id": "r_s5Tx4B9RF_"
      },
      "execution_count": null,
      "outputs": []
    },
    {
      "cell_type": "markdown",
      "source": [
        "#**Ejercicio 7**"
      ],
      "metadata": {
        "id": "X1mNpfrZ9Vc-"
      }
    },
    {
      "cell_type": "code",
      "source": [
        "Peso = int(input(\"Ingrese su peso en kilogramos \"))\n",
        "Altura = float(input(\"Ingrese su altura en metros \"))\n",
        "IMC = Peso / (Altura * Altura)\n",
        "print(\"Su IMC es \",IMC)"
      ],
      "metadata": {
        "id": "UNRzrXPo9aLW"
      },
      "execution_count": null,
      "outputs": []
    },
    {
      "cell_type": "markdown",
      "source": [
        "#**Ejercicio 8**"
      ],
      "metadata": {
        "id": "lph2t7HR9enO"
      }
    },
    {
      "cell_type": "code",
      "source": [
        "#ej 8\n",
        "n=float(input('ingrese el primer numero entero : '))\n",
        "m=float(input('ingrese el segundo numero entero : '))\n",
        "c=n/m\n",
        "r=n%m\n",
        "\n",
        "print('el cociente de la division de los numeros: ', n, 'y ',m, 'es :',c,' y el resto es: ', r,)"
      ],
      "metadata": {
        "colab": {
          "base_uri": "https://localhost:8080/"
        },
        "id": "B5QlMRyGvvix",
        "outputId": "fd83bdbc-050d-41c4-ca64-ac57100f0e65"
      },
      "execution_count": null,
      "outputs": [
        {
          "output_type": "stream",
          "name": "stdout",
          "text": [
            "ingrese el primer numero entero : 32\n",
            "ingrese el segundo numero entero : 6\n",
            "el cociente de la division de los numeros:  32.0 y  6.0 es : 5.333333333333333  y el resto es:  2.0\n"
          ]
        }
      ]
    },
    {
      "cell_type": "markdown",
      "source": [
        "# **Ejercicio 9**"
      ],
      "metadata": {
        "id": "yVAFTuTs9lTO"
      }
    },
    {
      "cell_type": "code",
      "source": [
        "#ej 9\n",
        "\n",
        "inv=float(input('¿cuanto dinero piensa invertir? '))\n",
        "inte=float(input('¿cual es el interes anual?, expresado en decimales'))\n",
        "años=int(input('por cuantos años'))\n",
        "capital=inv*((1+inte)**años)\n",
        "\n",
        "print('el capital obtenido es :',capital,)"
      ],
      "metadata": {
        "colab": {
          "base_uri": "https://localhost:8080/"
        },
        "id": "7CXBFDu63kNN",
        "outputId": "8e904934-dac0-4bce-c3bf-4b0a478a13fb"
      },
      "execution_count": null,
      "outputs": [
        {
          "output_type": "stream",
          "name": "stdout",
          "text": [
            "¿cuanto dinero piensa invertir? 100000\n",
            "¿cual es el interes anual?0.121\n",
            "por cuantos años3\n",
            "el capital obtenido es : 140869.45609999998\n"
          ]
        }
      ]
    },
    {
      "cell_type": "markdown",
      "source": [
        "#**Ejercicio 10**"
      ],
      "metadata": {
        "id": "TqclJkTV9rse"
      }
    },
    {
      "cell_type": "code",
      "source": [
        "muñecas=int(input(\"ingrese la cantidad de muñecas: \"))\n",
        "payasos=int(input(\"ingrese la cantidad de payasos: \"))\n",
        "pay=112\n",
        "muñ=75\n",
        "peso=(pay*payasos)+(muñ*muñecas)\n",
        "print(\"total peso:\",peso,\"g\")\n"
      ],
      "metadata": {
        "id": "FSS9x7nN9wk9"
      },
      "execution_count": null,
      "outputs": []
    },
    {
      "cell_type": "markdown",
      "source": [
        "# **Ejercicio 11**"
      ],
      "metadata": {
        "id": "rxXUZgbD94i-"
      }
    },
    {
      "cell_type": "code",
      "source": [
        "cantidad_inicial = float(input (\"Ingrese el saldo de su cuenta :\"))\n",
        "tasa_interes = 0.04\n",
        "\n",
        "balance_año1 = (cantidad_inicial * (1+tasa_interes))\n",
        "balance_año2 = (balance_año1 * (1+tasa_interes))\n",
        "balance_año3 = (balance_año2* (1+tasa_interes))\n",
        "\n",
        "print(\"El balance de la cuenta en el primer año es: \" , round (balance_año1 , 2))\n",
        "print(\"El balance de la cuenta en el segundo año es: \" , round (balance_año2 , 2))\n",
        "print(\"El balance de la cuenta en el tercer año es: \" , round (balance_año3 , 2))"
      ],
      "metadata": {
        "id": "_iH1yZEA98jO"
      },
      "execution_count": null,
      "outputs": []
    },
    {
      "cell_type": "markdown",
      "source": [
        "# **Ejercicio 12**"
      ],
      "metadata": {
        "id": "sVrsVcBW-Oo9"
      }
    },
    {
      "cell_type": "code",
      "source": [
        "#ej 12\n",
        "pan=int(input('¿cuantas barras de pan que no es del dia compro? '))\n",
        "nor=pan*3.49\n",
        "total=nor*0.60\n",
        "final=nor-total\n",
        "print('el precio normal de ',pan,' panes seria $',nor,', con el descuento del 60 el precio final seria: $',final,)"
      ],
      "metadata": {
        "colab": {
          "base_uri": "https://localhost:8080/"
        },
        "id": "jSei5HL6yqvZ",
        "outputId": "000ed6b6-b09c-4a0b-bca4-d96b57b09c22"
      },
      "execution_count": null,
      "outputs": [
        {
          "output_type": "stream",
          "name": "stdout",
          "text": [
            "¿cuantas barras de pan que no es del dia compro? 12\n",
            "el precio normal de  12  panes seria $ 41.88 , con el descuento del 60 el precio final seria: $ 16.752000000000002\n"
          ]
        }
      ]
    }
  ]
}